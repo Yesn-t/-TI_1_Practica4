{
  "nbformat": 4,
  "nbformat_minor": 0,
  "metadata": {
    "colab": {
      "provenance": [],
      "authorship_tag": "ABX9TyP97djTkzYG6Iny+bmEZtHb",
      "include_colab_link": true
    },
    "kernelspec": {
      "name": "python3",
      "display_name": "Python 3"
    },
    "language_info": {
      "name": "python"
    }
  },
  "cells": [
    {
      "cell_type": "markdown",
      "metadata": {
        "id": "view-in-github",
        "colab_type": "text"
      },
      "source": [
        "<a href=\"https://colab.research.google.com/github/Yesn-t/-TI_1_Practica4/blob/main/TI_1_Practica4.ipynb\" target=\"_parent\"><img src=\"https://colab.research.google.com/assets/colab-badge.svg\" alt=\"Open In Colab\"/></a>"
      ]
    },
    {
      "cell_type": "markdown",
      "source": [
        "# Práctica 4\n",
        "\n",
        "\n",
        "**Nombre:** Amaro Lechuga Jashua Ricardo\n",
        "**e-mail:** jashua.amaro3877@alumnos.udg.mx"
      ],
      "metadata": {
        "id": "k-UHT2yFNsCx"
      }
    },
    {
      "cell_type": "code",
      "source": [],
      "metadata": {
        "id": "avZ2HKD6NrK6"
      },
      "execution_count": null,
      "outputs": []
    }
  ]
}